{
 "cells": [
  {
   "cell_type": "markdown",
   "metadata": {},
   "source": [
    "# Loads\n",
    "\n",
    "Estimate the values of building characteristic and auxiliary loads\n",
    "\n",
    "Total:\n",
    "- sensible: 45 kW\n",
    "- latent: 15 kW"
   ]
  },
  {
   "cell_type": "markdown",
   "metadata": {},
   "source": [
    "Rules of thumb, BSRIA 2003\n",
    "Solar gains over floor area 150-250 W/m2 of glass (Tab. 3/p 13)\n",
    "Heat loads 50 - 100 W/m2 floor area\n",
    "U-wall 0.4 W/m2K\n",
    "U-window 3.5 W/m2K"
   ]
  },
  {
   "cell_type": "code",
   "execution_count": 3,
   "metadata": {},
   "outputs": [
    {
     "name": "stdout",
     "output_type": "stream",
     "text": [
      "QsTZ = 45197 W, QlTZ = 16338 W\n",
      "UA = 674 W/m2.K, mi = 1.11 kg/s,      Qsa = 34500 W, Qla = 4000 W\n"
     ]
    }
   ],
   "source": [
    "import psychro as psy\n",
    "# constants\n",
    "c = 1e3         # J/kg K, air specific heat\n",
    "l = 2496e3      # J/kg, latent heat\n",
    "ρ = 1.2         # kg/m3, density\n",
    "\n",
    "length = 20\n",
    "width = 30\n",
    "height = 3.5\n",
    "persons = 100\n",
    "\n",
    "sens_heat_person = 60\n",
    "latent_heat_person = 40\n",
    "load_m2 = 15\n",
    "solar_m2 = 150\n",
    "ACH = 1\n",
    "U_wall = 0.4\n",
    "U_window = 3.5\n",
    "\n",
    "θo, φo = 32, 0.5\n",
    "θI, φI = 26, 0.5\n",
    "wo = psy.w(θo, φo)\n",
    "wI = psy.w(θI, φI)\n",
    "\n",
    "floor_area = length * width\n",
    "surface_floor = 2 * (length + width) * height + floor_area\n",
    "surface_wall = 0.9 * surface_floor\n",
    "surface_window = surface_floor - surface_wall\n",
    "\n",
    "UA = U_wall * surface_wall + U_window * surface_window\n",
    "mi = ACH * surface_floor * height / 3600 * ρ\n",
    "\n",
    "solar_gains = solar_m2 * surface_window\n",
    "electrical_load = load_m2 * surface_floor\n",
    "Qsa = persons * sens_heat_person + solar_gains + electrical_load\n",
    "Qla = persons * latent_heat_person\n",
    "\n",
    "QsTZ = (UA + mi * c) * (θo - θI) + Qsa\n",
    "QlTZ = mi * l * (wo - wI) + Qla\n",
    "\n",
    "print(f'QsTZ = {QsTZ:.0f} W, QlTZ = {QlTZ:.0f} W')\n",
    "print(f'UA = {UA:.0f} W/m2.K, mi = {mi:.2f} kg/s,\\\n",
    "      Qsa = {Qsa:.0f} W, Qla = {Qla:.0f} W')"
   ]
  },
  {
   "cell_type": "code",
   "execution_count": null,
   "metadata": {},
   "outputs": [],
   "source": []
  }
 ],
 "metadata": {
  "kernelspec": {
   "display_name": "Python 3",
   "language": "python",
   "name": "python3"
  },
  "language_info": {
   "codemirror_mode": {
    "name": "ipython",
    "version": 3
   },
   "file_extension": ".py",
   "mimetype": "text/x-python",
   "name": "python",
   "nbconvert_exporter": "python",
   "pygments_lexer": "ipython3",
   "version": "3.8.5"
  }
 },
 "nbformat": 4,
 "nbformat_minor": 4
}
